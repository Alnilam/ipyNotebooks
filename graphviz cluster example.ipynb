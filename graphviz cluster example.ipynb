{
 "metadata": {
  "name": "",
  "signature": "sha256:deb3806119fb929e70b059af8febbff6676722395d8d0a7de716f183d40595e1"
 },
 "nbformat": 3,
 "nbformat_minor": 0,
 "worksheets": [
  {
   "cells": [
    {
     "cell_type": "markdown",
     "metadata": {},
     "source": [
      "# Clusters\n",
      "\n",
      "This was my attempt to recreate the [example dot](http://www.graphviz.org/Gallery/directed/cluster.html) file shown on the Graphviz website (http://www.graphviz.org/About.php) using pygraphviz and iPython Notebook so that I could learn to leverage subgraphs."
     ]
    },
    {
     "cell_type": "markdown",
     "metadata": {},
     "source": [
      "### Version Info\n",
      "\n",
      "pygraphviz doesn't seem to be available for Py3 yet"
     ]
    },
    {
     "cell_type": "code",
     "collapsed": false,
     "input": [
      "import sys\n",
      "print(sys.version_info)"
     ],
     "language": "python",
     "metadata": {},
     "outputs": [
      {
       "output_type": "stream",
       "stream": "stdout",
       "text": [
        "sys.version_info(major=2, minor=7, micro=8, releaselevel='final', serial=0)\n"
       ]
      }
     ],
     "prompt_number": 1
    },
    {
     "cell_type": "markdown",
     "metadata": {},
     "source": [
      "### Import Libraries"
     ]
    },
    {
     "cell_type": "code",
     "collapsed": false,
     "input": [
      "from IPython.display import SVG\n",
      "import pygraphviz as p"
     ],
     "language": "python",
     "metadata": {},
     "outputs": [],
     "prompt_number": 2
    },
    {
     "cell_type": "markdown",
     "metadata": {},
     "source": [
      "### Create the AGraph Object"
     ]
    },
    {
     "cell_type": "code",
     "collapsed": false,
     "input": [
      "G = p.AGraph(directed=True, strict=False)"
     ],
     "language": "python",
     "metadata": {},
     "outputs": [],
     "prompt_number": 3
    },
    {
     "cell_type": "markdown",
     "metadata": {},
     "source": [
      "### Variables for Nodes and Edges\n",
      "\n",
      "I was experimenting with different ways to add these, so I put them into variables up front to make them easier to use."
     ]
    },
    {
     "cell_type": "code",
     "collapsed": false,
     "input": [
      "N0 = ['a0','a1','a2','a3']\n",
      "N1 = ['b0','b1','b2','b3']\n",
      "E0 = [('a0','a1'),('a1','a2'),('a2','a3')]\n",
      "E1 = [('b0','b1'),('b1','b2'),('b2','b3')]\n",
      "E2 = [('start','a0'),('start','b0'),('a1','b3'),('b2','a3'),('a3','a0'),('a3','end'),('b3','end')]"
     ],
     "language": "python",
     "metadata": {},
     "outputs": [],
     "prompt_number": 4
    },
    {
     "cell_type": "markdown",
     "metadata": {},
     "source": [
      "### Create the First Subgraph"
     ]
    },
    {
     "cell_type": "code",
     "collapsed": false,
     "input": [
      "G0 = G.add_subgraph(name=\"cluster_0\",\n",
      "                    style='filled',\n",
      "                    color='lightgrey',\n",
      "                    label='process #1')\n",
      "G0.add_nodes_from(N0, color='white', style='filled')\n",
      "G0.add_edges_from(E0)"
     ],
     "language": "python",
     "metadata": {},
     "outputs": [],
     "prompt_number": 5
    },
    {
     "cell_type": "markdown",
     "metadata": {},
     "source": [
      "### Notes on the Subgraphs\n",
      "\n",
      "#### Nbunch\n",
      "\n",
      "I tried adding the nodes via the subgraph `nbunch` argument, but I think it only works if the node is already a part of the parent graph, and that caused some unnecessary duplication in the dot file."
     ]
    },
    {
     "cell_type": "markdown",
     "metadata": {},
     "source": [
      "#### Function Ambiguity\n",
      "\n",
      "`G.add_subgraph` and `G.subgraph` seem to do the same thing. I've used the former for clarity."
     ]
    },
    {
     "cell_type": "markdown",
     "metadata": {},
     "source": [
      "#### Subgraph Node Attr Bug\n",
      "\n",
      "There is some sort of bug causing \n",
      "\n",
      "    `G0.node_attr.update(color='white',style='filled')` \n",
      "\n",
      "to change the subgraph's attr's instead of the subgraph's nodes' attrs. Adding the nodes with the attrs and then the edges creates a noiser dot file, but accomplishes the same thing."
     ]
    },
    {
     "cell_type": "markdown",
     "metadata": {},
     "source": [
      "### Create the Second Subgraph"
     ]
    },
    {
     "cell_type": "code",
     "collapsed": false,
     "input": [
      "G1 = G.add_subgraph(name=\"cluster_1\",\n",
      "                    color='blue',\n",
      "                    label='process #2')\n",
      "G1.add_nodes_from(N1, style='filled')\n",
      "G1.add_edges_from(E1)"
     ],
     "language": "python",
     "metadata": {},
     "outputs": [],
     "prompt_number": 6
    },
    {
     "cell_type": "markdown",
     "metadata": {},
     "source": [
      "### Additional Nodes and Edges"
     ]
    },
    {
     "cell_type": "code",
     "collapsed": false,
     "input": [
      "G.add_node(\"start\",shape=\"Mdiamond\")\n",
      "G.add_node(\"end\",shape=\"Msquare\")\n",
      "G.add_edges_from(E2)"
     ],
     "language": "python",
     "metadata": {},
     "outputs": [],
     "prompt_number": 7
    },
    {
     "cell_type": "markdown",
     "metadata": {},
     "source": [
      "### Print to Show What the Dot File Looks Like"
     ]
    },
    {
     "cell_type": "code",
     "collapsed": false,
     "input": [
      "print(G)"
     ],
     "language": "python",
     "metadata": {},
     "outputs": [
      {
       "output_type": "stream",
       "stream": "stdout",
       "text": [
        "digraph {\n",
        "\tsubgraph cluster_0 {\n",
        "\t\tgraph [color=lightgrey,\n",
        "\t\t\tlabel=\"process #1\",\n",
        "\t\t\tstyle=filled\n",
        "\t\t];\n",
        "\t\ta0\t\t [color=white,\n",
        "\t\t\tstyle=filled];\n",
        "\t\ta1\t\t [color=white,\n",
        "\t\t\tstyle=filled];\n",
        "\t\ta0 -> a1;\n",
        "\t\ta2\t\t [color=white,\n",
        "\t\t\tstyle=filled];\n",
        "\t\ta1 -> a2;\n",
        "\t\ta3\t\t [color=white,\n",
        "\t\t\tstyle=filled];\n",
        "\t\ta2 -> a3;\n",
        "\t}\n",
        "\tsubgraph cluster_1 {\n",
        "\t\tgraph [color=blue,\n",
        "\t\t\tlabel=\"process #2\"\n",
        "\t\t];\n",
        "\t\tb0\t\t [style=filled];\n",
        "\t\tb1\t\t [style=filled];\n",
        "\t\tb0 -> b1;\n",
        "\t\tb2\t\t [style=filled];\n",
        "\t\tb1 -> b2;\n",
        "\t\tb3\t\t [style=filled];\n",
        "\t\tb2 -> b3;\n",
        "\t}\n",
        "\ta1 -> b3;\n",
        "\ta3 -> a0;\n",
        "\tend\t [shape=Msquare];\n",
        "\ta3 -> end;\n",
        "\tb2 -> a3;\n",
        "\tb3 -> end;\n",
        "\tstart\t [shape=Mdiamond];\n",
        "\tstart -> a0;\n",
        "\tstart -> b0;\n",
        "}\n",
        "\n"
       ]
      }
     ],
     "prompt_number": 8
    },
    {
     "cell_type": "markdown",
     "metadata": {},
     "source": [
      "### Notes on the Dot File\n",
      "\n",
      "#### Ordering Problem\n",
      "\n",
      "In the resulting dot file, the ordering is a bit out of control. Sometimes `cluster_1` winds up first, sometimes `cluster_0`. The nodes and edges get jumbled. The ordering of the subgraphs does seem to effect the resulting image. I'd prefer to have a way to make sure `cluster_0` comes first."
     ]
    },
    {
     "cell_type": "markdown",
     "metadata": {},
     "source": [
      "### Layout and Create SVG\n",
      "\n",
      "I think there should be some way in iPython to inline the `G.draw()` command instead of writing the file to disk, but I haven't found it yet."
     ]
    },
    {
     "cell_type": "code",
     "collapsed": false,
     "input": [
      "G.layout('dot')\n",
      "G.draw('test2.svg')\n",
      "SVG('test2.svg')"
     ],
     "language": "python",
     "metadata": {},
     "outputs": [
      {
       "metadata": {},
       "output_type": "pyout",
       "prompt_number": 9,
       "svg": [
        "<svg height=\"409pt\" viewBox=\"0.00 0.00 208.00 408.50\" width=\"208pt\" xmlns=\"http://www.w3.org/2000/svg\" xmlns:xlink=\"http://www.w3.org/1999/xlink\">\n",
        "<g class=\"graph\" id=\"graph0\" transform=\"scale(1 1) rotate(0) translate(4 404.5)\">\n",
        "<title>%3</title>\n",
        "<polygon fill=\"white\" points=\"-4,4 -4,-404.5 204,-404.5 204,4 -4,4\" stroke=\"none\"/>\n",
        "<g class=\"cluster\" id=\"clust1\"><title>cluster_1</title>\n",
        "<polygon fill=\"none\" points=\"124,-65.5 124,-356.5 200,-356.5 200,-65.5 124,-65.5\" stroke=\"blue\"/>\n",
        "<text font-family=\"Times,serif\" font-size=\"14.00\" text-anchor=\"middle\" x=\"162\" y=\"-341.3\">process #2</text>\n",
        "</g>\n",
        "<g class=\"cluster\" id=\"clust2\"><title>cluster_0</title>\n",
        "<polygon fill=\"lightgrey\" points=\"0,-65.5 0,-356.5 90,-356.5 90,-65.5 0,-65.5\" stroke=\"lightgrey\"/>\n",
        "<text font-family=\"Times,serif\" font-size=\"14.00\" text-anchor=\"middle\" x=\"45\" y=\"-341.3\">process #1</text>\n",
        "</g>\n",
        "<!-- b0 -->\n",
        "<g class=\"node\" id=\"node1\"><title>b0</title>\n",
        "<ellipse cx=\"162\" cy=\"-307.5\" fill=\"lightgrey\" rx=\"27\" ry=\"18\" stroke=\"black\"/>\n",
        "<text font-family=\"Times,serif\" font-size=\"14.00\" text-anchor=\"middle\" x=\"162\" y=\"-303.8\">b0</text>\n",
        "</g>\n",
        "<!-- b1 -->\n",
        "<g class=\"node\" id=\"node2\"><title>b1</title>\n",
        "<ellipse cx=\"163\" cy=\"-235.5\" fill=\"lightgrey\" rx=\"27\" ry=\"18\" stroke=\"black\"/>\n",
        "<text font-family=\"Times,serif\" font-size=\"14.00\" text-anchor=\"middle\" x=\"163\" y=\"-231.8\">b1</text>\n",
        "</g>\n",
        "<!-- b0&#45;&gt;b1 -->\n",
        "<g class=\"edge\" id=\"edge1\"><title>b0-&gt;b1</title>\n",
        "<path d=\"M162.25,-289.2C162.36,-281.48 162.49,-272.21 162.61,-263.61\" fill=\"none\" stroke=\"black\"/>\n",
        "<polygon fill=\"black\" points=\"166.11,-263.651 162.76,-253.6 159.11,-263.546 166.11,-263.651\" stroke=\"black\"/>\n",
        "</g>\n",
        "<!-- b2 -->\n",
        "<g class=\"node\" id=\"node3\"><title>b2</title>\n",
        "<ellipse cx=\"165\" cy=\"-163.5\" fill=\"lightgrey\" rx=\"27\" ry=\"18\" stroke=\"black\"/>\n",
        "<text font-family=\"Times,serif\" font-size=\"14.00\" text-anchor=\"middle\" x=\"165\" y=\"-159.8\">b2</text>\n",
        "</g>\n",
        "<!-- b1&#45;&gt;b2 -->\n",
        "<g class=\"edge\" id=\"edge2\"><title>b1-&gt;b2</title>\n",
        "<path d=\"M163.49,-217.2C163.71,-209.48 163.98,-200.21 164.23,-191.61\" fill=\"none\" stroke=\"black\"/>\n",
        "<polygon fill=\"black\" points=\"167.729,-191.694 164.51,-181.6 160.732,-191.498 167.729,-191.694\" stroke=\"black\"/>\n",
        "</g>\n",
        "<!-- b3 -->\n",
        "<g class=\"node\" id=\"node4\"><title>b3</title>\n",
        "<ellipse cx=\"159\" cy=\"-91.5\" fill=\"lightgrey\" rx=\"27\" ry=\"18\" stroke=\"black\"/>\n",
        "<text font-family=\"Times,serif\" font-size=\"14.00\" text-anchor=\"middle\" x=\"159\" y=\"-87.8\">b3</text>\n",
        "</g>\n",
        "<!-- b2&#45;&gt;b3 -->\n",
        "<g class=\"edge\" id=\"edge3\"><title>b2-&gt;b3</title>\n",
        "<path d=\"M163.52,-145.2C162.86,-137.48 162.06,-128.21 161.32,-119.61\" fill=\"none\" stroke=\"black\"/>\n",
        "<polygon fill=\"black\" points=\"164.804,-119.268 160.47,-109.6 157.829,-119.86 164.804,-119.268\" stroke=\"black\"/>\n",
        "</g>\n",
        "<!-- a3 -->\n",
        "<g class=\"node\" id=\"node8\"><title>a3</title>\n",
        "<ellipse cx=\"55\" cy=\"-91.5\" fill=\"white\" rx=\"27\" ry=\"18\" stroke=\"white\"/>\n",
        "<text font-family=\"Times,serif\" font-size=\"14.00\" text-anchor=\"middle\" x=\"55\" y=\"-87.8\">a3</text>\n",
        "</g>\n",
        "<!-- b2&#45;&gt;a3 -->\n",
        "<g class=\"edge\" id=\"edge10\"><title>b2-&gt;a3</title>\n",
        "<path d=\"M145.84,-150.31C128.33,-139.17 102.24,-122.56 82.507,-110\" fill=\"none\" stroke=\"black\"/>\n",
        "<polygon fill=\"black\" points=\"84.2569,-106.965 73.941,-104.55 80.4993,-112.871 84.2569,-106.965\" stroke=\"black\"/>\n",
        "</g>\n",
        "<!-- end -->\n",
        "<g class=\"node\" id=\"node9\"><title>end</title>\n",
        "<polygon fill=\"none\" points=\"125.5,-37 88.5,-37 88.5,-3.55271e-15 125.5,-3.55271e-15 125.5,-37\" stroke=\"black\"/>\n",
        "<polyline fill=\"none\" points=\"100.5,-37 88.5,-25 \" stroke=\"black\"/>\n",
        "<polyline fill=\"none\" points=\"88.5,-12 100.5,-3.55271e-15 \" stroke=\"black\"/>\n",
        "<polyline fill=\"none\" points=\"113.5,-3.55271e-15 125.5,-12 \" stroke=\"black\"/>\n",
        "<polyline fill=\"none\" points=\"125.5,-25 113.5,-37 \" stroke=\"black\"/>\n",
        "<text font-family=\"Times,serif\" font-size=\"14.00\" text-anchor=\"middle\" x=\"107\" y=\"-14.8\">end</text>\n",
        "</g>\n",
        "<!-- b3&#45;&gt;end -->\n",
        "<g class=\"edge\" id=\"edge11\"><title>b3-&gt;end</title>\n",
        "<path d=\"M147.72,-75.094C141.32,-66.364 133.16,-55.216 125.82,-45.198\" fill=\"none\" stroke=\"black\"/>\n",
        "<polygon fill=\"black\" points=\"128.642,-43.1269 119.91,-37.126 122.994,-47.2622 128.642,-43.1269\" stroke=\"black\"/>\n",
        "</g>\n",
        "<!-- a0 -->\n",
        "<g class=\"node\" id=\"node5\"><title>a0</title>\n",
        "<ellipse cx=\"55\" cy=\"-307.5\" fill=\"white\" rx=\"27\" ry=\"18\" stroke=\"white\"/>\n",
        "<text font-family=\"Times,serif\" font-size=\"14.00\" text-anchor=\"middle\" x=\"55\" y=\"-303.8\">a0</text>\n",
        "</g>\n",
        "<!-- a1 -->\n",
        "<g class=\"node\" id=\"node6\"><title>a1</title>\n",
        "<ellipse cx=\"55\" cy=\"-235.5\" fill=\"white\" rx=\"27\" ry=\"18\" stroke=\"white\"/>\n",
        "<text font-family=\"Times,serif\" font-size=\"14.00\" text-anchor=\"middle\" x=\"55\" y=\"-231.8\">a1</text>\n",
        "</g>\n",
        "<!-- a0&#45;&gt;a1 -->\n",
        "<g class=\"edge\" id=\"edge4\"><title>a0-&gt;a1</title>\n",
        "<path d=\"M55,-289.2C55,-281.48 55,-272.21 55,-263.61\" fill=\"none\" stroke=\"black\"/>\n",
        "<polygon fill=\"black\" points=\"58.5001,-263.6 55,-253.6 51.5001,-263.6 58.5001,-263.6\" stroke=\"black\"/>\n",
        "</g>\n",
        "<!-- a1&#45;&gt;b3 -->\n",
        "<g class=\"edge\" id=\"edge8\"><title>a1-&gt;b3</title>\n",
        "<path d=\"M66.328,-219.03C84.458,-194.28 120.12,-145.58 141.53,-116.35\" fill=\"none\" stroke=\"black\"/>\n",
        "<polygon fill=\"black\" points=\"144.599,-118.084 147.69,-107.95 138.954,-113.944 144.599,-118.084\" stroke=\"black\"/>\n",
        "</g>\n",
        "<!-- a2 -->\n",
        "<g class=\"node\" id=\"node7\"><title>a2</title>\n",
        "<ellipse cx=\"55\" cy=\"-163.5\" fill=\"white\" rx=\"27\" ry=\"18\" stroke=\"white\"/>\n",
        "<text font-family=\"Times,serif\" font-size=\"14.00\" text-anchor=\"middle\" x=\"55\" y=\"-159.8\">a2</text>\n",
        "</g>\n",
        "<!-- a1&#45;&gt;a2 -->\n",
        "<g class=\"edge\" id=\"edge5\"><title>a1-&gt;a2</title>\n",
        "<path d=\"M55,-217.2C55,-209.48 55,-200.21 55,-191.61\" fill=\"none\" stroke=\"black\"/>\n",
        "<polygon fill=\"black\" points=\"58.5001,-191.6 55,-181.6 51.5001,-191.6 58.5001,-191.6\" stroke=\"black\"/>\n",
        "</g>\n",
        "<!-- a2&#45;&gt;a3 -->\n",
        "<g class=\"edge\" id=\"edge6\"><title>a2-&gt;a3</title>\n",
        "<path d=\"M55,-145.2C55,-137.48 55,-128.21 55,-119.61\" fill=\"none\" stroke=\"black\"/>\n",
        "<polygon fill=\"black\" points=\"58.5001,-119.6 55,-109.6 51.5001,-119.6 58.5001,-119.6\" stroke=\"black\"/>\n",
        "</g>\n",
        "<!-- a3&#45;&gt;a0 -->\n",
        "<g class=\"edge\" id=\"edge7\"><title>a3-&gt;a0</title>\n",
        "<path d=\"M41.25,-107.43C33.039,-117.4 23.381,-131.25 19,-145.5 4.892,-191.38 4.892,-207.62 19,-253.5 22.286,-264.19 28.54,-274.65 34.925,-283.42\" fill=\"none\" stroke=\"black\"/>\n",
        "<polygon fill=\"black\" points=\"32.3539,-285.816 41.25,-291.57 37.884,-281.524 32.3539,-285.816\" stroke=\"black\"/>\n",
        "</g>\n",
        "<!-- a3&#45;&gt;end -->\n",
        "<g class=\"edge\" id=\"edge9\"><title>a3-&gt;end</title>\n",
        "<path d=\"M66.283,-75.094C72.677,-66.364 80.842,-55.216 88.179,-45.198\" fill=\"none\" stroke=\"black\"/>\n",
        "<polygon fill=\"black\" points=\"91.0057,-47.262 94.09,-37.126 85.358,-43.1262 91.0057,-47.262\" stroke=\"black\"/>\n",
        "</g>\n",
        "<!-- start -->\n",
        "<g class=\"node\" id=\"node10\"><title>start</title>\n",
        "<polygon fill=\"none\" points=\"108,-400.5 70.1282,-382.5 108,-364.5 145.872,-382.5 108,-400.5\" stroke=\"black\"/>\n",
        "<polyline fill=\"none\" points=\"80.9663,-387.651 80.9663,-377.349 \" stroke=\"black\"/>\n",
        "<polyline fill=\"none\" points=\"97.1619,-369.651 118.838,-369.651 \" stroke=\"black\"/>\n",
        "<polyline fill=\"none\" points=\"135.034,-377.349 135.034,-387.651 \" stroke=\"black\"/>\n",
        "<polyline fill=\"none\" points=\"118.838,-395.349 97.1619,-395.349 \" stroke=\"black\"/>\n",
        "<text font-family=\"Times,serif\" font-size=\"14.00\" text-anchor=\"middle\" x=\"108\" y=\"-378.8\">start</text>\n",
        "</g>\n",
        "<!-- start&#45;&gt;b0 -->\n",
        "<g class=\"edge\" id=\"edge13\"><title>start-&gt;b0</title>\n",
        "<path d=\"M117.41,-368.78C124.85,-358.73 135.44,-344.4 144.44,-332.24\" fill=\"none\" stroke=\"black\"/>\n",
        "<polygon fill=\"black\" points=\"147.512,-333.972 150.64,-323.85 141.882,-329.812 147.512,-333.972\" stroke=\"black\"/>\n",
        "</g>\n",
        "<!-- start&#45;&gt;a0 -->\n",
        "<g class=\"edge\" id=\"edge12\"><title>start-&gt;a0</title>\n",
        "<path d=\"M98.77,-368.78C91.513,-358.79 81.199,-344.59 72.406,-332.47\" fill=\"none\" stroke=\"black\"/>\n",
        "<polygon fill=\"black\" points=\"75.0476,-330.151 66.337,-324.12 69.3852,-334.267 75.0476,-330.151\" stroke=\"black\"/>\n",
        "</g>\n",
        "</g>\n",
        "</svg>"
       ],
       "text": [
        "<IPython.core.display.SVG at 0x1037a0f90>"
       ]
      }
     ],
     "prompt_number": 9
    }
   ],
   "metadata": {}
  }
 ]
}